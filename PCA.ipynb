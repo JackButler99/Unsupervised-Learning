{
 "cells": [
  {
   "cell_type": "markdown",
   "metadata": {},
   "source": [
    "# Principal Component Analysis"
   ]
  },
  {
   "cell_type": "markdown",
   "metadata": {},
   "source": [
    "### 1. Computing Mean, Standard Deviation, and Variance using the Pandas Library"
   ]
  },
  {
   "cell_type": "code",
   "execution_count": 1,
   "metadata": {},
   "outputs": [],
   "source": [
    "import pandas as pd\n",
    "import numpy as np\n",
    "import matplotlib.pyplot as plt"
   ]
  },
  {
   "cell_type": "code",
   "execution_count": 3,
   "metadata": {},
   "outputs": [
    {
     "data": {
      "text/html": [
       "<div>\n",
       "<style scoped>\n",
       "    .dataframe tbody tr th:only-of-type {\n",
       "        vertical-align: middle;\n",
       "    }\n",
       "\n",
       "    .dataframe tbody tr th {\n",
       "        vertical-align: top;\n",
       "    }\n",
       "\n",
       "    .dataframe thead th {\n",
       "        text-align: right;\n",
       "    }\n",
       "</style>\n",
       "<table border=\"1\" class=\"dataframe\">\n",
       "  <thead>\n",
       "    <tr style=\"text-align: right;\">\n",
       "      <th></th>\n",
       "      <th>A</th>\n",
       "      <th>P</th>\n",
       "      <th>C</th>\n",
       "      <th>LK</th>\n",
       "      <th>WK</th>\n",
       "      <th>A_Coef</th>\n",
       "      <th>LKG</th>\n",
       "      <th>target</th>\n",
       "    </tr>\n",
       "  </thead>\n",
       "  <tbody>\n",
       "    <tr>\n",
       "      <th>0</th>\n",
       "      <td>15.26</td>\n",
       "      <td>14.84</td>\n",
       "      <td>0.8710</td>\n",
       "      <td>5.763</td>\n",
       "      <td>3.312</td>\n",
       "      <td>2.221</td>\n",
       "      <td>5.220</td>\n",
       "      <td>0</td>\n",
       "    </tr>\n",
       "    <tr>\n",
       "      <th>1</th>\n",
       "      <td>14.88</td>\n",
       "      <td>14.57</td>\n",
       "      <td>0.8811</td>\n",
       "      <td>5.554</td>\n",
       "      <td>3.333</td>\n",
       "      <td>1.018</td>\n",
       "      <td>4.956</td>\n",
       "      <td>0</td>\n",
       "    </tr>\n",
       "    <tr>\n",
       "      <th>2</th>\n",
       "      <td>14.29</td>\n",
       "      <td>14.09</td>\n",
       "      <td>0.9050</td>\n",
       "      <td>5.291</td>\n",
       "      <td>3.337</td>\n",
       "      <td>2.699</td>\n",
       "      <td>4.825</td>\n",
       "      <td>0</td>\n",
       "    </tr>\n",
       "    <tr>\n",
       "      <th>3</th>\n",
       "      <td>13.84</td>\n",
       "      <td>13.94</td>\n",
       "      <td>0.8955</td>\n",
       "      <td>5.324</td>\n",
       "      <td>3.379</td>\n",
       "      <td>2.259</td>\n",
       "      <td>4.805</td>\n",
       "      <td>0</td>\n",
       "    </tr>\n",
       "    <tr>\n",
       "      <th>4</th>\n",
       "      <td>16.14</td>\n",
       "      <td>14.99</td>\n",
       "      <td>0.9034</td>\n",
       "      <td>5.658</td>\n",
       "      <td>3.562</td>\n",
       "      <td>1.355</td>\n",
       "      <td>5.175</td>\n",
       "      <td>0</td>\n",
       "    </tr>\n",
       "  </tbody>\n",
       "</table>\n",
       "</div>"
      ],
      "text/plain": [
       "       A      P       C     LK     WK  A_Coef    LKG  target\n",
       "0  15.26  14.84  0.8710  5.763  3.312   2.221  5.220       0\n",
       "1  14.88  14.57  0.8811  5.554  3.333   1.018  4.956       0\n",
       "2  14.29  14.09  0.9050  5.291  3.337   2.699  4.825       0\n",
       "3  13.84  13.94  0.8955  5.324  3.379   2.259  4.805       0\n",
       "4  16.14  14.99  0.9034  5.658  3.562   1.355  5.175       0"
      ]
     },
     "execution_count": 3,
     "metadata": {},
     "output_type": "execute_result"
    }
   ],
   "source": [
    "df = pd.read_csv('Seed_Data.csv')\n",
    "df.head()"
   ]
  },
  {
   "cell_type": "code",
   "execution_count": 4,
   "metadata": {},
   "outputs": [
    {
     "data": {
      "text/html": [
       "<div>\n",
       "<style scoped>\n",
       "    .dataframe tbody tr th:only-of-type {\n",
       "        vertical-align: middle;\n",
       "    }\n",
       "\n",
       "    .dataframe tbody tr th {\n",
       "        vertical-align: top;\n",
       "    }\n",
       "\n",
       "    .dataframe thead th {\n",
       "        text-align: right;\n",
       "    }\n",
       "</style>\n",
       "<table border=\"1\" class=\"dataframe\">\n",
       "  <thead>\n",
       "    <tr style=\"text-align: right;\">\n",
       "      <th></th>\n",
       "      <th>A</th>\n",
       "      <th>LK</th>\n",
       "    </tr>\n",
       "  </thead>\n",
       "  <tbody>\n",
       "    <tr>\n",
       "      <th>0</th>\n",
       "      <td>15.26</td>\n",
       "      <td>5.763</td>\n",
       "    </tr>\n",
       "    <tr>\n",
       "      <th>1</th>\n",
       "      <td>14.88</td>\n",
       "      <td>5.554</td>\n",
       "    </tr>\n",
       "    <tr>\n",
       "      <th>2</th>\n",
       "      <td>14.29</td>\n",
       "      <td>5.291</td>\n",
       "    </tr>\n",
       "    <tr>\n",
       "      <th>3</th>\n",
       "      <td>13.84</td>\n",
       "      <td>5.324</td>\n",
       "    </tr>\n",
       "    <tr>\n",
       "      <th>4</th>\n",
       "      <td>16.14</td>\n",
       "      <td>5.658</td>\n",
       "    </tr>\n",
       "  </tbody>\n",
       "</table>\n",
       "</div>"
      ],
      "text/plain": [
       "       A     LK\n",
       "0  15.26  5.763\n",
       "1  14.88  5.554\n",
       "2  14.29  5.291\n",
       "3  13.84  5.324\n",
       "4  16.14  5.658"
      ]
     },
     "execution_count": 4,
     "metadata": {},
     "output_type": "execute_result"
    }
   ],
   "source": [
    "df = df[['A', 'LK']]\n",
    "df.head()"
   ]
  },
  {
   "cell_type": "code",
   "execution_count": 6,
   "metadata": {},
   "outputs": [
    {
     "data": {
      "image/png": "[encoded data removed]",
      "text/plain": [
       "<Figure size 720x504 with 1 Axes>"
      ]
     },
     "metadata": {
      "needs_background": "light"
     },
     "output_type": "display_data"
    }
   ],
   "source": [
    "plt.figure(figsize=(10,7))\n",
    "plt.scatter(df['A'], df['LK'])\n",
    "plt.xlabel('Area of Kernel')\n",
    "plt.ylabel('Length of Kernel')\n",
    "plt.title('Kernel Area versus Length')\n",
    "plt.show()"
   ]
  },
  {
   "cell_type": "code",
   "execution_count": 7,
   "metadata": {},
   "outputs": [
    {
     "data": {
      "text/plain": [
       "A     14.847524\n",
       "LK     5.628533\n",
       "dtype: float64"
      ]
     },
     "execution_count": 7,
     "metadata": {},
     "output_type": "execute_result"
    }
   ],
   "source": [
    "df.mean()"
   ]
  },
  {
   "cell_type": "code",
   "execution_count": 8,
   "metadata": {},
   "outputs": [
    {
     "data": {
      "text/plain": [
       "array([14.84752381,  5.62853333])"
      ]
     },
     "execution_count": 8,
     "metadata": {},
     "output_type": "execute_result"
    }
   ],
   "source": [
    "np.mean(df.values, axis=0)"
   ]
  },
  {
   "cell_type": "code",
   "execution_count": 9,
   "metadata": {},
   "outputs": [
    {
     "data": {
      "text/plain": [
       "A     2.909699\n",
       "LK    0.443063\n",
       "dtype: float64"
      ]
     },
     "execution_count": 9,
     "metadata": {},
     "output_type": "execute_result"
    }
   ],
   "source": [
    "df.std()"
   ]
  },
  {
   "cell_type": "code",
   "execution_count": 12,
   "metadata": {},
   "outputs": [
    {
     "data": {
      "text/plain": [
       "array([2.90276331, 0.44200731])"
      ]
     },
     "execution_count": 12,
     "metadata": {},
     "output_type": "execute_result"
    }
   ],
   "source": [
    "np.std(df.values, axis=0)"
   ]
  },
  {
   "cell_type": "code",
   "execution_count": 13,
   "metadata": {},
   "outputs": [
    {
     "data": {
      "text/plain": [
       "A     8.466351\n",
       "LK    0.196305\n",
       "dtype: float64"
      ]
     },
     "execution_count": 13,
     "metadata": {},
     "output_type": "execute_result"
    }
   ],
   "source": [
    "df.var()"
   ]
  },
  {
   "cell_type": "code",
   "execution_count": 14,
   "metadata": {},
   "outputs": [
    {
     "data": {
      "text/plain": [
       "array([8.42603482, 0.19537046])"
      ]
     },
     "execution_count": 14,
     "metadata": {},
     "output_type": "execute_result"
    }
   ],
   "source": [
    "np.var(df.values, axis=0)"
   ]
  },
  {
   "cell_type": "markdown",
   "metadata": {},
   "source": [
    "# Manual PCA Demo"
   ]
  },
  {
   "cell_type": "code",
   "execution_count": 15,
   "metadata": {},
   "outputs": [
    {
     "data": {
      "text/html": [
       "<div>\n",
       "<style scoped>\n",
       "    .dataframe tbody tr th:only-of-type {\n",
       "        vertical-align: middle;\n",
       "    }\n",
       "\n",
       "    .dataframe tbody tr th {\n",
       "        vertical-align: top;\n",
       "    }\n",
       "\n",
       "    .dataframe thead th {\n",
       "        text-align: right;\n",
       "    }\n",
       "</style>\n",
       "<table border=\"1\" class=\"dataframe\">\n",
       "  <thead>\n",
       "    <tr style=\"text-align: right;\">\n",
       "      <th></th>\n",
       "      <th>A</th>\n",
       "      <th>LK</th>\n",
       "    </tr>\n",
       "  </thead>\n",
       "  <tbody>\n",
       "    <tr>\n",
       "      <th>A</th>\n",
       "      <td>8.466351</td>\n",
       "      <td>1.224704</td>\n",
       "    </tr>\n",
       "    <tr>\n",
       "      <th>LK</th>\n",
       "      <td>1.224704</td>\n",
       "      <td>0.196305</td>\n",
       "    </tr>\n",
       "  </tbody>\n",
       "</table>\n",
       "</div>"
      ],
      "text/plain": [
       "           A        LK\n",
       "A   8.466351  1.224704\n",
       "LK  1.224704  0.196305"
      ]
     },
     "execution_count": 15,
     "metadata": {},
     "output_type": "execute_result"
    }
   ],
   "source": [
    "df.cov()"
   ]
  },
  {
   "cell_type": "code",
   "execution_count": 17,
   "metadata": {},
   "outputs": [
    {
     "data": {
      "text/plain": [
       "array([[8.46635078, 1.22470367],\n",
       "       [1.22470367, 0.19630525]])"
      ]
     },
     "execution_count": 17,
     "metadata": {},
     "output_type": "execute_result"
    }
   ],
   "source": [
    "np.cov(df.values.T)"
   ]
  },
  {
   "cell_type": "code",
   "execution_count": 18,
   "metadata": {},
   "outputs": [],
   "source": [
    "eigenvalues, eigenvectors = np.linalg.eig(np.cov(df.T))"
   ]
  },
  {
   "cell_type": "code",
   "execution_count": 43,
   "metadata": {},
   "outputs": [],
   "source": [
    "ev, et,_ = np.linalg.svd(np.cov(df.T), full_matrices=False)"
   ]
  },
  {
   "cell_type": "code",
   "execution_count": 44,
   "metadata": {},
   "outputs": [
    {
     "data": {
      "text/plain": [
       "array([[-0.98965371, -0.14347657],\n",
       "       [-0.14347657,  0.98965371]])"
      ]
     },
     "execution_count": 44,
     "metadata": {},
     "output_type": "execute_result"
    }
   ],
   "source": [
    "ev"
   ]
  },
  {
   "cell_type": "code",
   "execution_count": 45,
   "metadata": {},
   "outputs": [
    {
     "data": {
      "text/plain": [
       "array([8.64390408, 0.01875194])"
      ]
     },
     "execution_count": 45,
     "metadata": {},
     "output_type": "execute_result"
    }
   ],
   "source": [
    "et"
   ]
  },
  {
   "cell_type": "code",
   "execution_count": 19,
   "metadata": {},
   "outputs": [
    {
     "data": {
      "text/plain": [
       "array([8.64390408, 0.01875194])"
      ]
     },
     "execution_count": 19,
     "metadata": {},
     "output_type": "execute_result"
    }
   ],
   "source": [
    "eigenvalues"
   ]
  },
  {
   "cell_type": "code",
   "execution_count": 20,
   "metadata": {},
   "outputs": [
    {
     "data": {
      "text/plain": [
       "array([[ 0.98965371, -0.14347657],\n",
       "       [ 0.14347657,  0.98965371]])"
      ]
     },
     "execution_count": 20,
     "metadata": {},
     "output_type": "execute_result"
    }
   ],
   "source": [
    "eigenvectors"
   ]
  },
  {
   "cell_type": "code",
   "execution_count": 23,
   "metadata": {},
   "outputs": [],
   "source": [
    "# We use the eigenvalues as a percentage of total variance within the dataset\n",
    "eigenvalues = np.cumsum(eigenvalues)"
   ]
  },
  {
   "cell_type": "code",
   "execution_count": 24,
   "metadata": {},
   "outputs": [
    {
     "data": {
      "text/plain": [
       "array([8.64390408, 8.66265602])"
      ]
     },
     "execution_count": 24,
     "metadata": {},
     "output_type": "execute_result"
    }
   ],
   "source": [
    "eigenvalues"
   ]
  },
  {
   "cell_type": "code",
   "execution_count": 25,
   "metadata": {},
   "outputs": [],
   "source": [
    "eigenvalues/= eigenvalues.max()"
   ]
  },
  {
   "cell_type": "code",
   "execution_count": 26,
   "metadata": {},
   "outputs": [
    {
     "data": {
      "text/plain": [
       "array([0.99783531, 1.        ])"
      ]
     },
     "execution_count": 26,
     "metadata": {},
     "output_type": "execute_result"
    }
   ],
   "source": [
    "eigenvalues"
   ]
  },
  {
   "cell_type": "markdown",
   "metadata": {},
   "source": [
    "we can see here that the first component comprises 99.7% of variation within data"
   ]
  },
  {
   "cell_type": "code",
   "execution_count": 28,
   "metadata": {},
   "outputs": [
    {
     "data": {
      "text/plain": [
       "array([[ 0.98965371, -0.14347657],\n",
       "       [ 0.14347657,  0.98965371]])"
      ]
     },
     "execution_count": 28,
     "metadata": {},
     "output_type": "execute_result"
    }
   ],
   "source": [
    "eigenvectors"
   ]
  },
  {
   "cell_type": "markdown",
   "metadata": {},
   "source": [
    "We use first eigenvalues as we use te first eigenvalue as principal components "
   ]
  },
  {
   "cell_type": "code",
   "execution_count": 32,
   "metadata": {},
   "outputs": [
    {
     "data": {
      "text/plain": [
       "array([ 0.98965371, -0.14347657])"
      ]
     },
     "execution_count": 32,
     "metadata": {},
     "output_type": "execute_result"
    }
   ],
   "source": [
    "P=eigenvectors[0]\n",
    "P"
   ]
  },
  {
   "cell_type": "markdown",
   "metadata": {},
   "source": [
    "Using the eigenvectors, we can further reduce the dimensionality of the available data.\n",
    "Note: We also can normalize data first before doing eigenvalues calculation"
   ]
  },
  {
   "cell_type": "markdown",
   "metadata": {},
   "source": [
    "Now We apply dimensionality reduction process"
   ]
  },
  {
   "cell_type": "code",
   "execution_count": 33,
   "metadata": {},
   "outputs": [
    {
     "data": {
      "text/plain": [
       "array([14.27526018, 13.92917837, 13.38301702, 12.93293812, 15.16122048,\n",
       "       13.45845558, 13.73985287, 13.18637087, 15.58947756, 15.42569089,\n",
       "       14.28229053, 13.10461599, 12.965921  , 12.85132003, 12.81130345,\n",
       "       13.67130454, 13.11079887, 14.73467174, 13.80111402, 11.83858666,\n",
       "       13.20170613, 13.17202321, 14.90964958, 11.22342981, 14.02411636,\n",
       "       15.18559477, 12.11123524, 11.8341322 , 13.1690102 , 12.51942567,\n",
       "       12.24132164, 14.50374139, 13.12396525, 12.9944561 , 14.0747502 ,\n",
       "       15.1341101 , 15.19649564, 16.06653005, 13.83537146, 13.35791196,\n",
       "       12.63259857, 12.59258199, 12.28666024, 14.49642074, 14.15321181,\n",
       "       12.88589119, 14.38312109, 14.03574465, 13.84140082, 13.8915942 ,\n",
       "       13.47938642, 14.80264952, 13.52011369, 13.39204265, 13.54607291,\n",
       "       14.05639189, 13.53734092, 13.99315553, 14.40850975, 11.24451083,\n",
       "       10.58331473, 10.41048904, 11.50383281, 12.30916598, 11.89280073,\n",
       "       12.00941372, 13.38386114, 13.06028843, 13.42230283, 11.82179656,\n",
       "       16.5593315 , 15.80519605, 16.22372014, 18.02932763, 15.78267692,\n",
       "       15.74610712, 16.27076038, 19.55179603, 17.81933482, 16.10353362,\n",
       "       15.51605102, 17.66459722, 19.08925475, 18.45156873, 18.39477208,\n",
       "       17.19529246, 17.81175064, 17.8439994 , 20.01779414, 19.73854564,\n",
       "       18.94782031, 17.68036625, 17.71550128, 17.53149446, 17.21362734,\n",
       "       15.81465546, 18.20042826, 17.85834706, 17.08226638, 17.63403671,\n",
       "       15.41981839, 16.95879329, 18.38158897, 18.06775593, 17.85749624,\n",
       "       17.76901135, 17.77230462, 16.5820008 , 18.77598892, 17.47526503,\n",
       "       17.38289958, 18.27515613, 18.04495989, 18.0439522 , 19.81140162,\n",
       "       17.94225408, 17.89565766, 18.05585741, 17.80113003, 18.89117049,\n",
       "       19.1245366 , 17.0829938 , 15.17598853, 17.38132803, 15.05509802,\n",
       "       17.67922179, 17.55529149, 16.93612734, 19.01695594, 16.53754984,\n",
       "       17.25281652, 17.86252127, 14.37665796, 15.15418344, 14.57029109,\n",
       "       14.43505292, 16.29872492, 14.559527  , 14.60184255, 15.21958533,\n",
       "       12.14967023, 12.38718377, 12.42878528, 11.34404676, 10.93527238,\n",
       "       10.3366053 , 10.5691072 , 11.60508377, 11.79583734,  9.91549863,\n",
       "       10.95248622, 11.11025022, 11.35723322, 10.3153808 , 10.49997492,\n",
       "       10.32097304, 10.49768599, 11.23058691, 10.84734467, 10.61012142,\n",
       "       11.62816677, 11.12803797, 11.16963614, 11.65499354, 10.30578126,\n",
       "       11.24236203, 11.5481403 , 11.24708002, 10.4899349 , 10.39341198,\n",
       "       10.14197117, 10.68915694, 10.42338855, 10.54515665,  9.96068036,\n",
       "        9.97360329, 10.3994313 ,  9.89069391, 10.61801598, 11.31506784,\n",
       "       10.56165311, 11.57984193, 11.31206152, 10.79658743, 11.9682326 ,\n",
       "       10.67093206, 10.91117166, 10.06711321, 10.38365892,  9.77754109,\n",
       "       10.0929323 , 10.42295812, 11.0108678 ,  9.96484453, 11.23346313,\n",
       "       11.92722841, 11.90814938, 12.46837478, 11.7132216 , 11.90012473,\n",
       "       11.50310874, 11.82382531, 10.34565436, 11.82496308, 11.49536435,\n",
       "       11.32683961, 10.37634161, 12.31218568, 10.9750087 , 11.420493  ])"
      ]
     },
     "execution_count": 33,
     "metadata": {},
     "output_type": "execute_result"
    }
   ],
   "source": [
    "x_t_p = P.dot(df.values.T)\n",
    "x_t_p"
   ]
  },
  {
   "cell_type": "code",
   "execution_count": 36,
   "metadata": {},
   "outputs": [
    {
     "data": {
      "image/png": "[encoded data removed]",
      "text/plain": [
       "<Figure size 720x504 with 1 Axes>"
      ]
     },
     "metadata": {
      "needs_background": "light"
     },
     "output_type": "display_data"
    }
   ],
   "source": [
    "plt.figure(figsize=(10, 7))\n",
    "plt.plot(x_t_p)\n",
    "plt.title('Principal Component of Selected Datasets')\n",
    "plt.xlabel('Sample')\n",
    "plt.ylabel('Component Value')\n",
    "plt.show()"
   ]
  },
  {
   "cell_type": "code",
   "execution_count": 76,
   "metadata": {},
   "outputs": [
    {
     "data": {
      "text/plain": [
       "array([[ 4.12476190e-01,  1.34466667e-01],\n",
       "       [ 3.24761905e-02, -7.45333333e-02],\n",
       "       [-5.57523810e-01, -3.37533333e-01],\n",
       "       [-1.00752381e+00, -3.04533333e-01],\n",
       "       [ 1.29247619e+00,  2.94666667e-02],\n",
       "       [-4.67523810e-01, -2.42533333e-01],\n",
       "       [-1.57523810e-01, -6.55333333e-02],\n",
       "       [-7.37523810e-01, -2.08533333e-01],\n",
       "       [ 1.78247619e+00,  4.24466667e-01],\n",
       "       [ 1.59247619e+00,  2.55466667e-01],\n",
       "       [ 4.12476190e-01,  8.54666667e-02],\n",
       "       [-8.17523810e-01, -1.90533333e-01],\n",
       "       [-9.57523810e-01, -1.89533333e-01],\n",
       "       [-1.06752381e+00, -1.49533333e-01],\n",
       "       [-1.10752381e+00, -1.46533333e-01],\n",
       "       [-2.57523810e-01, -2.77533333e-01],\n",
       "       [-8.57523810e-01, -5.09533333e-01],\n",
       "       [ 8.42476190e-01, -1.01533333e-01],\n",
       "       [-1.47523810e-01, -4.23533333e-01],\n",
       "       [-2.12752381e+00, -4.02533333e-01],\n",
       "       [-6.87523810e-01,  2.94666667e-02],\n",
       "       [-7.37523810e-01, -1.08533333e-01],\n",
       "       [ 1.03247619e+00, -1.05333333e-02],\n",
       "       [-2.76752381e+00, -5.29533333e-01],\n",
       "       [ 1.62476190e-01,  1.60466667e-01],\n",
       "       [ 1.34247619e+00,  2.04466667e-01],\n",
       "       [-1.82752381e+00, -2.33533333e-01],\n",
       "       [-2.10752381e+00, -2.33533333e-01],\n",
       "       [-7.37523810e-01, -8.75333333e-02],\n",
       "       [-1.39752381e+00, -1.12533333e-01],\n",
       "       [-1.68752381e+00, -1.74533333e-01],\n",
       "       [ 6.42476190e-01,  1.28466667e-01],\n",
       "       [-7.57523810e-01,  8.84666667e-02],\n",
       "       [-9.07523810e-01, -4.35333333e-02],\n",
       "       [ 2.02476190e-01,  8.34666667e-02],\n",
       "       [ 1.27247619e+00,  8.04666667e-02],\n",
       "       [ 1.35247619e+00,  1.97466667e-01],\n",
       "       [ 2.23247619e+00,  2.03466667e-01],\n",
       "       [-4.75238095e-02,  2.74666667e-02],\n",
       "       [-5.67523810e-01, -2.31533333e-01],\n",
       "       [-1.30752381e+00, -2.80533333e-01],\n",
       "       [-1.34752381e+00, -2.77533333e-01],\n",
       "       [-1.68752381e+00, -4.90533333e-01],\n",
       "       [ 6.52476190e-01,  2.48466667e-01],\n",
       "       [ 2.62476190e-01, -4.95333333e-02],\n",
       "       [-1.04752381e+00, -2.52533333e-01],\n",
       "       [ 5.12476190e-01,  7.24666667e-02],\n",
       "       [ 1.42476190e-01, -5.85333333e-02],\n",
       "       [-5.75238095e-02, -8.35333333e-02],\n",
       "       [ 1.24761905e-02,  4.94666667e-02],\n",
       "       [-4.17523810e-01, -4.35333333e-02],\n",
       "       [ 9.32476190e-01,  4.54666667e-02],\n",
       "       [-3.57523810e-01,  8.64666667e-02],\n",
       "       [-5.17523810e-01, -1.24533333e-01],\n",
       "       [-3.27523810e-01,  1.12466667e-01],\n",
       "       [ 1.82476190e-01,  7.34666667e-02],\n",
       "       [-3.87523810e-01, -2.40533333e-01],\n",
       "       [ 7.24761905e-02, -2.44533333e-01],\n",
       "       [ 5.32476190e-01,  3.34666667e-02],\n",
       "       [-2.73752381e+00, -4.69533333e-01],\n",
       "       [-3.42752381e+00, -6.20533333e-01],\n",
       "       [-3.61752381e+00, -7.26533333e-01],\n",
       "       [-2.48752381e+00, -5.52533333e-01],\n",
       "       [-1.62752381e+00, -2.33533333e-01],\n",
       "       [-2.06752381e+00, -3.66533333e-01],\n",
       "       [-1.96752381e+00, -4.89533333e-01],\n",
       "       [-5.07523810e-01,  1.46666667e-03],\n",
       "       [-8.37523810e-01, -1.95333333e-02],\n",
       "       [-4.77523810e-01, -5.95333333e-02],\n",
       "       [-2.11752381e+00, -2.16533333e-01],\n",
       "       [ 2.78247619e+00,  5.62466667e-01],\n",
       "       [ 1.99247619e+00,  3.69466667e-01],\n",
       "       [ 2.41247619e+00,  3.49466667e-01],\n",
       "       [ 4.26247619e+00,  5.25466667e-01],\n",
       "       [ 1.97247619e+00,  3.88466667e-01],\n",
       "       [ 1.92247619e+00,  2.98466667e-01],\n",
       "       [ 2.47247619e+00,  4.35466667e-01],\n",
       "       [ 5.86247619e+00,  9.50466667e-01],\n",
       "       [ 4.09247619e+00,  8.16466667e-01],\n",
       "       [ 2.27247619e+00,  2.21466667e-01],\n",
       "       [ 1.68247619e+00,  2.46466667e-01],\n",
       "       [ 3.87247619e+00,  3.77466667e-01],\n",
       "       [ 5.35247619e+00,  6.56466667e-01],\n",
       "       [ 4.72247619e+00,  7.55466667e-01],\n",
       "       [ 4.66247619e+00,  7.37466667e-01],\n",
       "       [ 3.42247619e+00,  5.44466667e-01],\n",
       "       [ 4.03247619e+00,  4.55466667e-01],\n",
       "       [ 4.13247619e+00,  9.20466667e-01],\n",
       "       [ 6.33247619e+00,  9.44466667e-01],\n",
       "       [ 6.03247619e+00,  8.21466667e-01],\n",
       "       [ 5.25247619e+00,  9.52466667e-01],\n",
       "       [ 3.91247619e+00,  5.43466667e-01],\n",
       "       [ 3.96247619e+00,  6.43466667e-01],\n",
       "       [ 3.74247619e+00,  4.08466667e-01],\n",
       "       [ 3.51247619e+00,  1.03746667e+00],\n",
       "       [ 2.02247619e+00,  5.10466667e-01],\n",
       "       [ 4.46247619e+00,  7.12466667e-01],\n",
       "       [ 4.13247619e+00,  8.20466667e-01],\n",
       "       [ 3.32247619e+00,  6.42466667e-01],\n",
       "       [ 3.87247619e+00,  5.90466667e-01],\n",
       "       [ 1.56247619e+00,  8.94666667e-02],\n",
       "       [ 3.14247619e+00,  2.61466667e-01],\n",
       "       [ 4.61247619e+00,  4.84466667e-01],\n",
       "       [ 4.33247619e+00,  7.40466667e-01],\n",
       "       [ 4.10247619e+00,  6.19466667e-01],\n",
       "       [ 3.98247619e+00,  4.08466667e-01],\n",
       "       [ 4.00247619e+00,  5.23466667e-01],\n",
       "       [ 2.78247619e+00,  4.04466667e-01],\n",
       "       [ 5.09247619e+00,  1.04646667e+00],\n",
       "       [ 3.70247619e+00,  5.24466667e-01],\n",
       "       [ 3.60247619e+00,  4.78466667e-01],\n",
       "       [ 4.53247619e+00,  6.74466667e-01],\n",
       "       [ 4.28247619e+00,  5.54466667e-01],\n",
       "       [ 4.29247619e+00,  6.30466667e-01],\n",
       "       [ 6.12247619e+00,  9.34466667e-01],\n",
       "       [ 4.21247619e+00,  7.87466667e-01],\n",
       "       [ 4.11247619e+00,  4.22466667e-01],\n",
       "       [ 4.30247619e+00,  6.16466667e-01],\n",
       "       [ 4.04247619e+00,  5.98466667e-01],\n",
       "       [ 5.18247619e+00,  8.64466667e-01],\n",
       "       [ 5.39247619e+00,  6.86466667e-01],\n",
       "       [ 3.29247619e+00,  4.30466667e-01],\n",
       "       [ 1.32247619e+00,  1.33466667e-01],\n",
       "       [ 3.58247619e+00,  3.51466667e-01],\n",
       "       [ 1.14247619e+00, -2.65533333e-01],\n",
       "       [ 3.90247619e+00,  4.82466667e-01],\n",
       "       [ 3.80247619e+00,  6.56466667e-01],\n",
       "       [ 3.13247619e+00,  3.50466667e-01],\n",
       "       [ 5.31247619e+00,  8.84466667e-01],\n",
       "       [ 2.70247619e+00,  1.62466667e-01],\n",
       "       [ 3.45247619e+00,  3.50466667e-01],\n",
       "       [ 4.09247619e+00,  5.15466667e-01],\n",
       "       [ 5.32476190e-01,  2.55466667e-01],\n",
       "       [ 1.31247619e+00,  2.16466667e-01],\n",
       "       [ 7.12476190e-01,  1.47466667e-01],\n",
       "       [ 5.32476190e-01, -1.51533333e-01],\n",
       "       [ 2.51247619e+00,  5.16466667e-01],\n",
       "       [ 7.22476190e-01,  2.91466667e-01],\n",
       "       [ 7.52476190e-01,  2.03466667e-01],\n",
       "       [ 1.38247619e+00,  2.43466667e-01],\n",
       "       [-1.77752381e+00, -1.56533333e-01],\n",
       "       [-1.52752381e+00, -8.75333333e-02],\n",
       "       [-1.50752381e+00, -2.39533333e-01],\n",
       "       [-2.62752381e+00, -4.04533333e-01],\n",
       "       [-3.02752381e+00, -3.14533333e-01],\n",
       "       [-3.63752381e+00, -3.49533333e-01],\n",
       "       [-3.41752381e+00, -4.52533333e-01],\n",
       "       [-2.35752381e+00, -3.61533333e-01],\n",
       "       [-2.14752381e+00, -2.42533333e-01],\n",
       "       [-4.05752381e+00, -3.11533333e-01],\n",
       "       [-3.01752381e+00, -3.65533333e-01],\n",
       "       [-2.83752381e+00, -2.23533333e-01],\n",
       "       [-2.58752381e+00, -2.20533333e-01],\n",
       "       [-3.66752381e+00, -4.08533333e-01],\n",
       "       [-3.48752381e+00, -4.53533333e-01],\n",
       "       [-3.65752381e+00, -3.78533333e-01],\n",
       "       [-3.50752381e+00, -5.75533333e-01],\n",
       "       [-2.71752381e+00, -2.34533333e-01],\n",
       "       [-3.09752381e+00, -1.84533333e-01],\n",
       "       [-3.35752381e+00, -3.24533333e-01],\n",
       "       [-2.30752381e+00, -1.77533333e-01],\n",
       "       [-2.82752381e+00, -2.78533333e-01],\n",
       "       [-2.79752381e+00, -3.61533333e-01],\n",
       "       [-2.29752381e+00, -2.95533333e-01],\n",
       "       [-3.70752381e+00, -6.17533333e-01],\n",
       "       [-2.74752381e+00, -5.23533333e-01],\n",
       "       [-2.40752381e+00, -3.09533333e-01],\n",
       "       [-2.69752381e+00, -2.11533333e-01],\n",
       "       [-3.49752381e+00, -4.52533333e-01],\n",
       "       [-3.60752381e+00, -5.38533333e-01],\n",
       "       [-3.82752381e+00, -3.03533333e-01],\n",
       "       [-3.29752381e+00, -4.61533333e-01],\n",
       "       [-3.57752381e+00, -5.40533333e-01],\n",
       "       [-3.44752381e+00, -4.92533333e-01],\n",
       "       [-4.01752381e+00, -3.50533333e-01],\n",
       "       [-4.04752381e+00, -6.47533333e-01],\n",
       "       [-3.58752381e+00, -4.42533333e-01],\n",
       "       [-4.10752381e+00, -4.83533333e-01],\n",
       "       [-3.36752381e+00, -4.48533333e-01],\n",
       "       [-2.63752381e+00, -2.71533333e-01],\n",
       "       [-3.43752381e+00, -5.38533333e-01],\n",
       "       [-2.38752381e+00, -3.92533333e-01],\n",
       "       [-2.65752381e+00, -3.88533333e-01],\n",
       "       [-3.19752381e+00, -5.20533333e-01],\n",
       "       [-1.95752381e+00, -1.33533333e-01],\n",
       "       [-3.28752381e+00, -2.65533333e-01],\n",
       "       [-3.03752381e+00, -2.15533333e-01],\n",
       "       [-3.93752381e+00, -5.40533333e-01],\n",
       "       [-3.61752381e+00, -5.39533333e-01],\n",
       "       [-4.25752381e+00, -7.29533333e-01],\n",
       "       [-3.91752381e+00, -5.82533333e-01],\n",
       "       [-3.57752381e+00, -5.37533333e-01],\n",
       "       [-2.97752381e+00, -4.96533333e-01],\n",
       "       [-4.02752381e+00, -4.48533333e-01],\n",
       "       [-2.73752381e+00, -3.92533333e-01],\n",
       "       [-2.04752381e+00, -4.68533333e-01],\n",
       "       [-2.05752381e+00, -4.04533333e-01],\n",
       "       [-1.47752381e+00, -3.08533333e-01],\n",
       "       [-2.22752381e+00, -2.18533333e-01],\n",
       "       [-2.08752381e+00, -5.55533333e-01],\n",
       "       [-2.46752381e+00, -4.09533333e-01],\n",
       "       [-2.17752381e+00, -6.44533333e-01],\n",
       "       [-3.66752381e+00, -6.19533333e-01],\n",
       "       [-2.14752381e+00, -4.45533333e-01],\n",
       "       [-2.47752381e+00, -4.24533333e-01],\n",
       "       [-2.65752381e+00, -4.91533333e-01],\n",
       "       [-3.61752381e+00, -4.88533333e-01],\n",
       "       [-1.64752381e+00, -3.92533333e-01],\n",
       "       [-3.00752381e+00, -4.53533333e-01],\n",
       "       [-2.54752381e+00, -3.85533333e-01]])"
      ]
     },
     "execution_count": 76,
     "metadata": {},
     "output_type": "execute_result"
    }
   ],
   "source": []
  },
  {
   "cell_type": "markdown",
   "metadata": {},
   "source": [
    "# Sklearn PCA demo"
   ]
  },
  {
   "cell_type": "code",
   "execution_count": 46,
   "metadata": {},
   "outputs": [
    {
     "data": {
      "text/html": [
       "<div>\n",
       "<style scoped>\n",
       "    .dataframe tbody tr th:only-of-type {\n",
       "        vertical-align: middle;\n",
       "    }\n",
       "\n",
       "    .dataframe tbody tr th {\n",
       "        vertical-align: top;\n",
       "    }\n",
       "\n",
       "    .dataframe thead th {\n",
       "        text-align: right;\n",
       "    }\n",
       "</style>\n",
       "<table border=\"1\" class=\"dataframe\">\n",
       "  <thead>\n",
       "    <tr style=\"text-align: right;\">\n",
       "      <th></th>\n",
       "      <th>A</th>\n",
       "      <th>LK</th>\n",
       "    </tr>\n",
       "  </thead>\n",
       "  <tbody>\n",
       "    <tr>\n",
       "      <th>0</th>\n",
       "      <td>15.26</td>\n",
       "      <td>5.763</td>\n",
       "    </tr>\n",
       "    <tr>\n",
       "      <th>1</th>\n",
       "      <td>14.88</td>\n",
       "      <td>5.554</td>\n",
       "    </tr>\n",
       "    <tr>\n",
       "      <th>2</th>\n",
       "      <td>14.29</td>\n",
       "      <td>5.291</td>\n",
       "    </tr>\n",
       "    <tr>\n",
       "      <th>3</th>\n",
       "      <td>13.84</td>\n",
       "      <td>5.324</td>\n",
       "    </tr>\n",
       "    <tr>\n",
       "      <th>4</th>\n",
       "      <td>16.14</td>\n",
       "      <td>5.658</td>\n",
       "    </tr>\n",
       "    <tr>\n",
       "      <th>...</th>\n",
       "      <td>...</td>\n",
       "      <td>...</td>\n",
       "    </tr>\n",
       "    <tr>\n",
       "      <th>205</th>\n",
       "      <td>12.19</td>\n",
       "      <td>5.137</td>\n",
       "    </tr>\n",
       "    <tr>\n",
       "      <th>206</th>\n",
       "      <td>11.23</td>\n",
       "      <td>5.140</td>\n",
       "    </tr>\n",
       "    <tr>\n",
       "      <th>207</th>\n",
       "      <td>13.20</td>\n",
       "      <td>5.236</td>\n",
       "    </tr>\n",
       "    <tr>\n",
       "      <th>208</th>\n",
       "      <td>11.84</td>\n",
       "      <td>5.175</td>\n",
       "    </tr>\n",
       "    <tr>\n",
       "      <th>209</th>\n",
       "      <td>12.30</td>\n",
       "      <td>5.243</td>\n",
       "    </tr>\n",
       "  </tbody>\n",
       "</table>\n",
       "<p>210 rows × 2 columns</p>\n",
       "</div>"
      ],
      "text/plain": [
       "         A     LK\n",
       "0    15.26  5.763\n",
       "1    14.88  5.554\n",
       "2    14.29  5.291\n",
       "3    13.84  5.324\n",
       "4    16.14  5.658\n",
       "..     ...    ...\n",
       "205  12.19  5.137\n",
       "206  11.23  5.140\n",
       "207  13.20  5.236\n",
       "208  11.84  5.175\n",
       "209  12.30  5.243\n",
       "\n",
       "[210 rows x 2 columns]"
      ]
     },
     "execution_count": 46,
     "metadata": {},
     "output_type": "execute_result"
    }
   ],
   "source": [
    "df"
   ]
  },
  {
   "cell_type": "code",
   "execution_count": 56,
   "metadata": {},
   "outputs": [],
   "source": [
    "from sklearn.decomposition import PCA"
   ]
  },
  {
   "cell_type": "code",
   "execution_count": 57,
   "metadata": {},
   "outputs": [
    {
     "data": {
      "text/plain": [
       "PCA()"
      ]
     },
     "execution_count": 57,
     "metadata": {},
     "output_type": "execute_result"
    }
   ],
   "source": [
    "model = PCA()\n",
    "model.fit(df.values)"
   ]
  },
  {
   "cell_type": "code",
   "execution_count": 58,
   "metadata": {},
   "outputs": [
    {
     "data": {
      "text/plain": [
       "PCA()"
      ]
     },
     "execution_count": 58,
     "metadata": {},
     "output_type": "execute_result"
    }
   ],
   "source": [
    "PCA(copy=True, iterated_power='auto', n_components=None,\n",
    "    random_state=None, svd_solver='auto', \n",
    "    tol=0.0, whiten=False)"
   ]
  },
  {
   "cell_type": "code",
   "execution_count": 59,
   "metadata": {},
   "outputs": [
    {
     "data": {
      "text/plain": [
       "array([0.99783531, 0.00216469])"
      ]
     },
     "execution_count": 59,
     "metadata": {},
     "output_type": "execute_result"
    }
   ],
   "source": [
    "model.explained_variance_ratio_"
   ]
  },
  {
   "cell_type": "code",
   "execution_count": 60,
   "metadata": {},
   "outputs": [
    {
     "data": {
      "text/plain": [
       "array([[ 0.98965371,  0.14347657],\n",
       "       [-0.14347657,  0.98965371]])"
      ]
     },
     "execution_count": 60,
     "metadata": {},
     "output_type": "execute_result"
    }
   ],
   "source": [
    "model.components_"
   ]
  },
  {
   "cell_type": "code",
   "execution_count": 61,
   "metadata": {},
   "outputs": [
    {
     "data": {
      "text/plain": [
       "PCA(n_components=1)"
      ]
     },
     "execution_count": 61,
     "metadata": {},
     "output_type": "execute_result"
    }
   ],
   "source": [
    "model = PCA(n_components=1)\n",
    "model.fit(df)"
   ]
  },
  {
   "cell_type": "code",
   "execution_count": 62,
   "metadata": {},
   "outputs": [
    {
     "data": {
      "text/plain": [
       "PCA()"
      ]
     },
     "execution_count": 62,
     "metadata": {},
     "output_type": "execute_result"
    }
   ],
   "source": [
    "PCA(copy=True, iterated_power='auto', n_components=None,\n",
    "    random_state=None, svd_solver='auto', \n",
    "    tol=0.0, whiten=False)"
   ]
  },
  {
   "cell_type": "code",
   "execution_count": 63,
   "metadata": {},
   "outputs": [
    {
     "data": {
      "text/plain": [
       "array([[0.98965371, 0.14347657]])"
      ]
     },
     "execution_count": 63,
     "metadata": {},
     "output_type": "execute_result"
    }
   ],
   "source": [
    "model.components_"
   ]
  },
  {
   "cell_type": "code",
   "execution_count": 64,
   "metadata": {},
   "outputs": [],
   "source": [
    "data_t = model.fit_transform(df)"
   ]
  },
  {
   "cell_type": "code",
   "execution_count": 65,
   "metadata": {},
   "outputs": [
    {
     "data": {
      "image/png": "[encoded data removed]",
      "text/plain": [
       "<Figure size 720x504 with 1 Axes>"
      ]
     },
     "metadata": {
      "needs_background": "light"
     },
     "output_type": "display_data"
    }
   ],
   "source": [
    "plt.figure(figsize=(10, 7))\n",
    "plt.plot(data_t)\n",
    "plt.xlabel('Sample')\n",
    "plt.ylabel('Transformed Data')\n",
    "plt.title('The dataset transformed by the principal component')\n",
    "plt.show()"
   ]
  },
  {
   "cell_type": "code",
   "execution_count": 69,
   "metadata": {},
   "outputs": [
    {
     "data": {
      "text/plain": [
       "array([[15.27060217,  5.68986977],\n",
       "       [14.86874831,  5.63161039],\n",
       "       [14.25354985,  5.54242104],\n",
       "       [13.81749907,  5.47920391],\n",
       "       [16.11757773,  5.81266136],\n",
       "       [14.3551864 ,  5.55715596],\n",
       "       [14.68393749,  5.60481715],\n",
       "       [14.09557223,  5.51951799],\n",
       "       [16.65357771,  5.89036878],\n",
       "       [16.44349229,  5.85991133],\n",
       "       [15.26364455,  5.68886108],\n",
       "       [14.01977493,  5.50852916],\n",
       "       [13.88279889,  5.48867085],\n",
       "       [13.78074298,  5.47387514],\n",
       "       [13.74199238,  5.46825721],\n",
       "       [14.55589372,  5.58625381],\n",
       "       [13.93530286,  5.49628269],\n",
       "       [15.65824025,  5.7460682 ],\n",
       "       [14.64289846,  5.59886746],\n",
       "       [12.70663964,  5.31815535],\n",
       "       [14.17833707,  5.53151695],\n",
       "       [14.10977144,  5.52157655],\n",
       "       [15.85725028,  5.77491999],\n",
       "       [12.06178137,  5.22466603],\n",
       "       [15.02944034,  5.65490696],\n",
       "       [16.19139708,  5.82336343],\n",
       "       [13.02446065,  5.36423194],\n",
       "       [12.75022459,  5.32447414],\n",
       "       [14.11275327,  5.52200884],\n",
       "       [13.46278992,  5.4277794 ],\n",
       "       [13.16995621,  5.38532538],\n",
       "       [15.49501554,  5.72240445],\n",
       "       [14.1181556 ,  5.52279205],\n",
       "       [13.95250047,  5.49877594],\n",
       "       [15.05768353,  5.65900156],\n",
       "       [16.10523104,  5.81087138],\n",
       "       [16.20019728,  5.82463926],\n",
       "       [17.06293396,  5.94971584],\n",
       "       [14.80487835,  5.62235074],\n",
       "       [14.25880687,  5.54318319],\n",
       "       [13.52708254,  5.43710032],\n",
       "       [13.48833194,  5.4314824 ],\n",
       "       [13.1250867 ,  5.37882036],\n",
       "       [15.52184874,  5.72629463],\n",
       "       [15.09756345,  5.66478322],\n",
       "       [13.78570609,  5.47459467],\n",
       "       [15.3597401 ,  5.70279268],\n",
       "       [14.97875578,  5.64755889],\n",
       "       [14.77932308,  5.61864583],\n",
       "       [14.86676705,  5.63132315],\n",
       "       [14.43241356,  5.56835208],\n",
       "       [15.76726039,  5.76187356],\n",
       "       [14.5096374 ,  5.57954773],\n",
       "       [14.32297075,  5.55248544],\n",
       "       [14.54271163,  5.58434272],\n",
       "       [15.03667532,  5.65595587],\n",
       "       [14.43382354,  5.5685565 ],\n",
       "       [14.88378623,  5.63379053],\n",
       "       [15.3737907 ,  5.70482969],\n",
       "       [12.09968334,  5.23016092],\n",
       "       [11.40244654,  5.12907794],\n",
       "       [11.20130662,  5.09991737],\n",
       "       [12.33275161,  5.26395035],\n",
       "       [13.22034354,  5.39263036],\n",
       "       [12.77051622,  5.32741595],\n",
       "       [12.85099264,  5.33908315],\n",
       "       [14.3506559 ,  5.55649914],\n",
       "       [14.02446729,  5.50920944],\n",
       "       [14.37137681,  5.55950319],\n",
       "       [12.74284432,  5.32340418],\n",
       "       [17.6525871 ,  6.03520171],\n",
       "       [16.85144518,  5.91905493],\n",
       "       [17.25995942,  5.97827991],\n",
       "       [19.09686681,  6.24458839],\n",
       "       [16.83455474,  5.91660621],\n",
       "       [16.77280473,  5.9076539 ],\n",
       "       [17.33093561,  5.98856979],\n",
       "       [20.72427662,  6.48052464],\n",
       "       [18.97168606,  6.22644012],\n",
       "       [17.1046664 ,  5.95576606],\n",
       "       [16.53036167,  5.87250535],\n",
       "       [18.69388033,  6.1861648 ],\n",
       "       [20.18302955,  6.40205651],\n",
       "       [19.58005565,  6.31463944],\n",
       "       [19.51873493,  6.30574937],\n",
       "       [18.2768565 ,  6.12570613],\n",
       "       [18.86166203,  6.21048921],\n",
       "       [19.02562982,  6.2342607 ],\n",
       "       [21.18374947,  6.54713742],\n",
       "       [20.87246009,  6.50200776],\n",
       "       [20.12711777,  6.39395061],\n",
       "       [18.7566276 ,  6.19526169],\n",
       "       [18.81979754,  6.20441984],\n",
       "       [18.5709582 ,  6.16834398],\n",
       "       [18.43500592,  6.14863409],\n",
       "       [16.90084851,  5.92621725],\n",
       "       [19.31930223,  6.27683631],\n",
       "       [19.0114306 ,  6.23220214],\n",
       "       [18.19283028,  6.1135243 ],\n",
       "       [18.72412465,  6.19054952],\n",
       "       [16.39053917,  5.85223436],\n",
       "       [17.96243668,  6.08012263],\n",
       "       [19.4338402 ,  6.29344163],\n",
       "       [19.19595413,  6.25895373],\n",
       "       [18.95350775,  6.22380469],\n",
       "       [18.80601768,  6.20242209],\n",
       "       [18.84193506,  6.20762927],\n",
       "       [17.63015234,  6.0319492 ],\n",
       "       [19.98375872,  6.37316691],\n",
       "       [18.54825271,  6.16505221],\n",
       "       [18.44377963,  6.14990607],\n",
       "       [19.38246554,  6.28599351],\n",
       "       [19.12057287,  6.24802521],\n",
       "       [19.14115842,  6.25100963],\n",
       "       [20.97665251,  6.51711322],\n",
       "       [19.08509802,  6.24288219],\n",
       "       [18.93532945,  6.22116926],\n",
       "       [19.14896467,  6.25214136],\n",
       "       [18.89176105,  6.21485287],\n",
       "       [20.04606345,  6.38219964],\n",
       "       [20.22646589,  6.40835376],\n",
       "       [18.13334552,  6.1049004 ],\n",
       "       [16.16172735,  5.81906202],\n",
       "       [18.40615834,  6.14445186],\n",
       "       [15.92877788,  5.78528981],\n",
       "       [18.73817194,  6.19258605],\n",
       "       [18.66493712,  6.18196872],\n",
       "       [17.96527983,  6.08053482],\n",
       "       [20.17622718,  6.40107032],\n",
       "       [17.51743709,  6.01560813],\n",
       "       [18.27869246,  6.1259723 ],\n",
       "       [18.92894643,  6.22024387],\n",
       "       [15.40531295,  5.70939967],\n",
       "       [16.16371855,  5.8193507 ],\n",
       "       [15.56627241,  5.73273502],\n",
       "       [15.34752216,  5.70102137],\n",
       "       [17.38161355,  5.9959169 ],\n",
       "       [15.59651342,  5.73711926],\n",
       "       [15.61340055,  5.73956749],\n",
       "       [16.23611135,  5.82984595],\n",
       "       [13.08436476,  5.37291663],\n",
       "       [13.33901584,  5.40983506],\n",
       "       [13.33702133,  5.40954591],\n",
       "       [12.21664842,  5.24711812],\n",
       "       [11.83766192,  5.19217396],\n",
       "       [11.23524936,  5.10483827],\n",
       "       [11.43609536,  5.13395623],\n",
       "       [12.48719598,  5.28634117],\n",
       "       [12.70977009,  5.31860919],\n",
       "       [10.82929099,  5.04598383],\n",
       "       [11.84021446,  5.19254402],\n",
       "       [12.03667195,  5.22102575],\n",
       "       [12.28195155,  5.25658554],\n",
       "       [11.1974894 ,  5.09936396],\n",
       "       [11.36739435,  5.1239962 ],\n",
       "       [11.2115433 ,  5.10140145],\n",
       "       [11.33048303,  5.11864492],\n",
       "       [12.15263977,  5.23783836],\n",
       "       [11.78756188,  5.18491063],\n",
       "       [11.51303522,  5.14511071],\n",
       "       [12.56229326,  5.29722851],\n",
       "       [12.03865653,  5.22131347],\n",
       "       [12.05625362,  5.22386463],\n",
       "       [12.55533233,  5.29621934],\n",
       "       [11.12863646,  5.0893819 ],\n",
       "       [12.08222162,  5.22762938],\n",
       "       [12.44560885,  5.28031201],\n",
       "       [12.17549388,  5.24115167],\n",
       "       [11.3577422 ,  5.12259686],\n",
       "       [11.23779529,  5.10520737],\n",
       "       [11.05569225,  5.0788067 ],\n",
       "       [11.55234717,  5.15081002],\n",
       "       [11.26689374,  5.10942597],\n",
       "       [11.40103324,  5.12887305],\n",
       "       [10.86292987,  5.05086068],\n",
       "       [10.79137578,  5.04048702],\n",
       "       [11.27101482,  5.11002343],\n",
       "       [10.75589762,  5.03534351],\n",
       "       [11.48563405,  5.14113818],\n",
       "       [12.22573922,  5.24843607],\n",
       "       [11.40429575,  5.12934603],\n",
       "       [12.45341179,  5.28144325],\n",
       "       [12.18953786,  5.24318772],\n",
       "       [11.64191108,  5.16379468],\n",
       "       [12.91133598,  5.34783152],\n",
       "       [11.58997177,  5.1562647 ],\n",
       "       [11.84192499,  5.19279201],\n",
       "       [10.91430453,  5.0583088 ],\n",
       "       [11.22785915,  5.10376687],\n",
       "       [10.57405538,  5.00898066],\n",
       "       [10.92792915,  5.06028405],\n",
       "       [11.26731971,  5.10948772],\n",
       "       [11.86079007,  5.195527  ],\n",
       "       [10.8392205 ,  5.04742338],\n",
       "       [12.11061673,  5.23174601],\n",
       "       [12.77562131,  5.32815607],\n",
       "       [12.77491467,  5.32805363],\n",
       "       [13.3566063 ,  5.41238527],\n",
       "       [12.63482474,  5.30774387],\n",
       "       [12.72409142,  5.32068545],\n",
       "       [12.37264477,  5.26973393],\n",
       "       [12.62330682,  5.30607404],\n",
       "       [11.16752906,  5.09502042],\n",
       "       [12.68094569,  5.31443033],\n",
       "       [12.36072074,  5.26800522],\n",
       "       [12.17491267,  5.24106741],\n",
       "       [11.23510075,  5.10481673],\n",
       "       [13.1781785 ,  5.38651742],\n",
       "       [11.8375133 ,  5.19215242],\n",
       "       [12.29769942,  5.25886861]])"
      ]
     },
     "execution_count": 69,
     "metadata": {},
     "output_type": "execute_result"
    }
   ],
   "source": [
    "data_r = model.inverse_transform(data_t)\n",
    "data_r"
   ]
  },
  {
   "cell_type": "code",
   "execution_count": 71,
   "metadata": {},
   "outputs": [
    {
     "data": {
      "image/png": "[encoded data removed]",
      "text/plain": [
       "<Figure size 720x504 with 1 Axes>"
      ]
     },
     "metadata": {
      "needs_background": "light"
     },
     "output_type": "display_data"
    }
   ],
   "source": [
    "plt.figure(figsize=(10, 7))\n",
    "plt.plot(data_r[:,0], data_r[:,1], linestyle=':', label='PCA restoration')\n",
    "plt.scatter(df['A'], df['LK'], marker='*', label='Original')\n",
    "plt.legend()\n",
    "plt.xlabel('Area of Kernel')\n",
    "plt.ylabel('Length of Kernel')\n",
    "plt.title('Inverse transform after removing variance')\n",
    "plt.show()"
   ]
  },
  {
   "cell_type": "code",
   "execution_count": null,
   "metadata": {},
   "outputs": [],
   "source": []
  }
 ],
 "metadata": {
  "kernelspec": {
   "display_name": "Python 3",
   "language": "python",
   "name": "python3"
  },
  "language_info": {
   "codemirror_mode": {
    "name": "ipython",
    "version": 3
   },
   "file_extension": ".py",
   "mimetype": "text/x-python",
   "name": "python",
   "nbconvert_exporter": "python",
   "pygments_lexer": "ipython3",
   "version": "3.7.6"
  }
 },
 "nbformat": 4,
 "nbformat_minor": 4
}
