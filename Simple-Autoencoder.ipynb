{
 "cells": [
  {
   "cell_type": "markdown",
   "metadata": {},
   "source": [
    "# Simple Autoencoder"
   ]
  },
  {
   "cell_type": "code",
   "execution_count": 1,
   "metadata": {},
   "outputs": [
    {
     "name": "stderr",
     "output_type": "stream",
     "text": [
      "C:\\ProgramData\\Anaconda3\\lib\\site-packages\\requests\\__init__.py:91: RequestsDependencyWarning: urllib3 (1.26.8) or chardet (3.0.4) doesn't match a supported version!\n",
      "  RequestsDependencyWarning)\n"
     ]
    }
   ],
   "source": [
    "import tensorflow\n",
    "import pickle\n",
    "import numpy as np\n",
    "import matplotlib.pyplot as plt\n",
    "from tensorflow.keras.models import Model\n",
    "from tensorflow.keras.layers import Input, Dense\n",
    "\n",
    "import tensorflow.python.util.deprecation as deprecation\n",
    "deprecation._PRINT_DEPRECATION_WARNINGS = False"
   ]
  },
  {
   "cell_type": "code",
   "execution_count": 2,
   "metadata": {},
   "outputs": [],
   "source": [
    "with open('data_batch_1', 'rb') as f:\n",
    "    batch_1 = pickle.load(f, encoding='bytes')"
   ]
  },
  {
   "cell_type": "code",
   "execution_count": 3,
   "metadata": {},
   "outputs": [],
   "source": [
    "images = np.zeros((10000, 32, 32, 3), dtype='uint8')\n",
    "\n",
    "for idx, img in enumerate(batch_1[b'data']):\n",
    "    images[idx, :, :, 0] = img[:1024].reshape((32, 32)) # Red\n",
    "    images[idx, :, :, 1] = img[1024:2048].reshape((32, 32)) # Green\n",
    "    images[idx, :, :, 2] = img[2048:].reshape((32, 32)) # Blue"
   ]
  },
  {
   "cell_type": "code",
   "execution_count": 4,
   "metadata": {},
   "outputs": [
    {
     "data": {
      "text/plain": [
       "array([[0.24052288, 0.1751634 , 0.18431373, ..., 0.70588235, 0.46143791,\n",
       "        0.3751634 ],\n",
       "       [0.67712418, 0.52156863, 0.39738562, ..., 0.54248366, 0.54771242,\n",
       "        0.54901961],\n",
       "       [1.        , 0.99215686, 0.99215686, ..., 0.32156863, 0.32287582,\n",
       "        0.32679739],\n",
       "       ...,\n",
       "       [0.25098039, 0.21437908, 0.27843137, ..., 0.28888889, 0.29673203,\n",
       "        0.29934641],\n",
       "       [0.99346405, 0.99477124, 0.85620915, ..., 0.8379085 , 1.        ,\n",
       "        0.99738562],\n",
       "       [0.1620915 , 0.16078431, 0.15816993, ..., 0.64705882, 0.64705882,\n",
       "        0.64836601]])"
      ]
     },
     "execution_count": 4,
     "metadata": {},
     "output_type": "execute_result"
    }
   ],
   "source": [
    "images = images.mean(axis=-1)\n",
    "images = images / 255.0\n",
    "images = images.reshape((-1, 32 ** 2))\n",
    "images"
   ]
  },
  {
   "cell_type": "code",
   "execution_count": 5,
   "metadata": {},
   "outputs": [],
   "source": [
    "input_layer = Input(shape=(1024,))"
   ]
  },
  {
   "cell_type": "code",
   "execution_count": 6,
   "metadata": {},
   "outputs": [],
   "source": [
    "encoding_stage = Dense(256, activation='relu')(input_layer)"
   ]
  },
  {
   "cell_type": "code",
   "execution_count": 7,
   "metadata": {},
   "outputs": [],
   "source": [
    "decoding_stage = Dense(1024, activation='sigmoid')(encoding_stage)"
   ]
  },
  {
   "cell_type": "code",
   "execution_count": 8,
   "metadata": {},
   "outputs": [],
   "source": [
    "autoencoder = Model(input_layer, decoding_stage)"
   ]
  },
  {
   "cell_type": "code",
   "execution_count": 9,
   "metadata": {},
   "outputs": [],
   "source": [
    "autoencoder.compile(loss='binary_crossentropy',\n",
    "              optimizer= tensorflow.keras.optimizers.Adadelta(learning_rate=0.8))"
   ]
  },
  {
   "cell_type": "code",
   "execution_count": 10,
   "metadata": {},
   "outputs": [
    {
     "name": "stdout",
     "output_type": "stream",
     "text": [
      "Epoch 1/150\n",
      "313/313 [==============================] - 7s 19ms/step - loss: 0.6872\n",
      "Epoch 2/150\n",
      "313/313 [==============================] - 6s 18ms/step - loss: 0.6701\n",
      "Epoch 3/150\n",
      "313/313 [==============================] - 6s 19ms/step - loss: 0.6568\n",
      "Epoch 4/150\n",
      "313/313 [==============================] - 7s 22ms/step - loss: 0.6497\n",
      "Epoch 5/150\n",
      "313/313 [==============================] - 7s 22ms/step - loss: 0.6445\n",
      "Epoch 6/150\n",
      "313/313 [==============================] - 7s 22ms/step - loss: 0.6395\n",
      "Epoch 7/150\n",
      "313/313 [==============================] - 7s 22ms/step - loss: 0.6349\n",
      "Epoch 8/150\n",
      "313/313 [==============================] - 7s 22ms/step - loss: 0.6309\n",
      "Epoch 9/150\n",
      "313/313 [==============================] - 7s 23ms/step - loss: 0.6274\n",
      "Epoch 10/150\n",
      "313/313 [==============================] - 7s 21ms/step - loss: 0.6241\n",
      "Epoch 11/150\n",
      "313/313 [==============================] - 6s 20ms/step - loss: 0.6209\n",
      "Epoch 12/150\n",
      "313/313 [==============================] - 6s 20ms/step - loss: 0.6177TA: \n",
      "Epoch 13/150\n",
      "313/313 [==============================] - 6s 20ms/step - loss: 0.6144\n",
      "Epoch 14/150\n",
      "313/313 [==============================] - 6s 20ms/step - loss: 0.6112\n",
      "Epoch 15/150\n",
      "313/313 [==============================] - 6s 20ms/step - loss: 0.6081\n",
      "Epoch 16/150\n",
      "313/313 [==============================] - 6s 20ms/step - loss: 0.6055:\n",
      "Epoch 17/150\n",
      "313/313 [==============================] - 6s 20ms/step - loss: 0.6041: - ETA: 0s - loss: 0.604 - ETA: 0s - loss: 0. - ETA: 0s - loss: \n",
      "Epoch 18/150\n",
      "313/313 [==============================] - 6s 20ms/step - loss: 0.6027\n",
      "Epoch 19/150\n",
      "313/313 [==============================] - 6s 20ms/step - loss: 0.6023\n",
      "Epoch 20/150\n",
      "313/313 [==============================] - 7s 21ms/step - loss: 0.6014\n",
      "Epoch 21/150\n",
      "313/313 [==============================] - 6s 20ms/step - loss: 0.6012\n",
      "Epoch 22/150\n",
      "313/313 [==============================] - 6s 20ms/step - loss: 0.5992\n",
      "Epoch 23/150\n",
      "313/313 [==============================] - 6s 20ms/step - loss: 0.5988\n",
      "Epoch 24/150\n",
      "313/313 [==============================] - 6s 20ms/step - loss: 0.5986\n",
      "Epoch 25/150\n",
      "313/313 [==============================] - 6s 21ms/step - loss: 0.5975\n",
      "Epoch 26/150\n",
      "313/313 [==============================] - 6s 21ms/step - loss: 0.5958\n",
      "Epoch 27/150\n",
      "313/313 [==============================] - 6s 20ms/step - loss: 0.5960: 0\n",
      "Epoch 28/150\n",
      "313/313 [==============================] - 6s 21ms/step - loss: 0.5947\n",
      "Epoch 29/150\n",
      "313/313 [==============================] - 6s 20ms/step - loss: 0.5944: 2s - lo\n",
      "Epoch 30/150\n",
      "313/313 [==============================] - 6s 20ms/step - loss: 0.5942\n",
      "Epoch 31/150\n",
      "313/313 [==============================] - 6s 20ms/step - loss: 0.5936: 1s - loss: 0. - ETA:\n",
      "Epoch 32/150\n",
      "313/313 [==============================] - 6s 20ms/step - loss: 0.5927: 1s - lo - ETA: 0s - l\n",
      "Epoch 33/150\n",
      "313/313 [==============================] - 6s 20ms/step - loss: 0.5915\n",
      "Epoch 34/150\n",
      "313/313 [==============================] - 6s 21ms/step - loss: 0.5918\n",
      "Epoch 35/150\n",
      "313/313 [==============================] - 6s 20ms/step - loss: 0.5919\n",
      "Epoch 36/150\n",
      "313/313 [==============================] - 7s 23ms/step - loss: 0.5908\n",
      "Epoch 37/150\n",
      "313/313 [==============================] - 8s 25ms/step - loss: 0.5900\n",
      "Epoch 38/150\n",
      "313/313 [==============================] - 7s 22ms/step - loss: 0.5900\n",
      "Epoch 39/150\n",
      "313/313 [==============================] - 7s 24ms/step - loss: 0.5897\n",
      "Epoch 40/150\n",
      "313/313 [==============================] - 8s 25ms/step - loss: 0.5892\n",
      "Epoch 41/150\n",
      "313/313 [==============================] - 8s 25ms/step - loss: 0.5886\n",
      "Epoch 42/150\n",
      "313/313 [==============================] - 8s 25ms/step - loss: 0.5885: 1s - loss: 0. - ETA: 1\n",
      "Epoch 43/150\n",
      "313/313 [==============================] - 8s 25ms/step - loss: 0.5879\n",
      "Epoch 44/150\n",
      "313/313 [==============================] - 8s 25ms/step - loss: 0.5874: 0s - los\n",
      "Epoch 45/150\n",
      "313/313 [==============================] - 8s 26ms/step - loss: 0.5875\n",
      "Epoch 46/150\n",
      "313/313 [==============================] - 7s 21ms/step - loss: 0.5865: 2s \n",
      "Epoch 47/150\n",
      "313/313 [==============================] - 6s 20ms/step - loss: 0.5869\n",
      "Epoch 48/150\n",
      "313/313 [==============================] - 7s 21ms/step - loss: 0.5869\n",
      "Epoch 49/150\n",
      "313/313 [==============================] - 7s 21ms/step - loss: 0.5861: 0s - loss: 0.5\n",
      "Epoch 50/150\n",
      "313/313 [==============================] - 6s 20ms/step - loss: 0.5859\n",
      "Epoch 51/150\n",
      "313/313 [==============================] - 6s 21ms/step - loss: 0.5855: \n",
      "Epoch 52/150\n",
      "313/313 [==============================] - 6s 20ms/step - loss: 0.5852\n",
      "Epoch 53/150\n",
      "313/313 [==============================] - 7s 22ms/step - loss: 0.5847: 0s - los\n",
      "Epoch 54/150\n",
      "313/313 [==============================] - 7s 21ms/step - loss: 0.5851\n",
      "Epoch 55/150\n",
      "313/313 [==============================] - 7s 21ms/step - loss: 0.5848\n",
      "Epoch 56/150\n",
      "313/313 [==============================] - 7s 21ms/step - loss: 0.5845\n",
      "Epoch 57/150\n",
      "313/313 [==============================] - 6s 20ms/step - loss: 0.5843: 0s - loss: 0.5\n",
      "Epoch 58/150\n",
      "313/313 [==============================] - 7s 21ms/step - loss: 0.5842\n",
      "Epoch 59/150\n",
      "313/313 [==============================] - 7s 21ms/step - loss: 0.5840\n",
      "Epoch 60/150\n",
      "313/313 [==============================] - 7s 22ms/step - loss: 0.5835\n",
      "Epoch 61/150\n",
      "313/313 [==============================] - 6s 20ms/step - loss: 0.5837: 2s -\n",
      "Epoch 62/150\n",
      "313/313 [==============================] - 6s 20ms/step - loss: 0.5835: 2s - l\n",
      "Epoch 63/150\n",
      "313/313 [==============================] - 7s 21ms/step - loss: 0.5833\n",
      "Epoch 64/150\n",
      "313/313 [==============================] - 7s 22ms/step - loss: 0.5831\n",
      "Epoch 65/150\n",
      "313/313 [==============================] - 6s 21ms/step - loss: 0.5830\n",
      "Epoch 66/150\n",
      "313/313 [==============================] - 6s 20ms/step - loss: 0.5826 - ETA: 0s - \n",
      "Epoch 67/150\n",
      "313/313 [==============================] - 7s 21ms/step - loss: 0.5825\n",
      "Epoch 68/150\n",
      "313/313 [==============================] - 7s 21ms/step - loss: 0.5826\n",
      "Epoch 69/150\n",
      "313/313 [==============================] - 6s 20ms/step - loss: 0.5823\n",
      "Epoch 70/150\n",
      "313/313 [==============================] - 6s 21ms/step - loss: 0.5821\n",
      "Epoch 71/150\n",
      "313/313 [==============================] - 7s 22ms/step - loss: 0.5819: 2s -\n",
      "Epoch 72/150\n",
      "313/313 [==============================] - 7s 21ms/step - loss: 0.5819\n",
      "Epoch 73/150\n",
      "313/313 [==============================] - 7s 21ms/step - loss: 0.5817\n",
      "Epoch 74/150\n",
      "313/313 [==============================] - 9s 27ms/step - loss: 0.5815\n",
      "Epoch 75/150\n",
      "313/313 [==============================] - 7s 21ms/step - loss: 0.5815\n",
      "Epoch 76/150\n",
      "313/313 [==============================] - 6s 20ms/step - loss: 0.5812\n",
      "Epoch 77/150\n",
      "313/313 [==============================] - 7s 21ms/step - loss: 0.5813\n",
      "Epoch 78/150\n",
      "313/313 [==============================] - 6s 20ms/step - loss: 0.5812\n",
      "Epoch 79/150\n",
      "313/313 [==============================] - 6s 20ms/step - loss: 0.5813\n",
      "Epoch 80/150\n",
      "313/313 [==============================] - 7s 21ms/step - loss: 0.5808\n",
      "Epoch 81/150\n",
      "313/313 [==============================] - 6s 20ms/step - loss: 0.5807: 1s  - ETA: 0s - loss: 0.5 - ETA: 0s - loss: 0\n",
      "Epoch 82/150\n",
      "313/313 [==============================] - 6s 20ms/step - loss: 0.5808 - ETA: 1s - loss - ETA: 0s - \n",
      "Epoch 83/150\n",
      "313/313 [==============================] - 7s 21ms/step - loss: 0.5808\n",
      "Epoch 84/150\n",
      "313/313 [==============================] - 6s 21ms/step - loss: 0.5804\n",
      "Epoch 85/150\n",
      "313/313 [==============================] - 6s 21ms/step - loss: 0.5804\n",
      "Epoch 86/150\n",
      "313/313 [==============================] - 7s 21ms/step - loss: 0.5803\n",
      "Epoch 87/150\n",
      "313/313 [==============================] - 7s 21ms/step - loss: 0.5801\n",
      "Epoch 88/150\n",
      "313/313 [==============================] - 7s 21ms/step - loss: 0.5803: 0s - lo\n",
      "Epoch 89/150\n",
      "313/313 [==============================] - 7s 21ms/step - loss: 0.5800\n",
      "Epoch 90/150\n",
      "313/313 [==============================] - 6s 20ms/step - loss: 0.5800: 3s - loss: 0.5 -\n",
      "Epoch 91/150\n",
      "313/313 [==============================] - 6s 20ms/step - loss: 0.5798\n",
      "Epoch 92/150\n",
      "313/313 [==============================] - 7s 21ms/step - loss: 0.5798: 0s -\n",
      "Epoch 93/150\n",
      "313/313 [==============================] - 6s 20ms/step - loss: 0.5796\n",
      "Epoch 94/150\n",
      "313/313 [==============================] - 7s 23ms/step - loss: 0.5794\n",
      "Epoch 95/150\n",
      "313/313 [==============================] - 7s 21ms/step - loss: 0.5794\n",
      "Epoch 96/150\n",
      "313/313 [==============================] - 6s 21ms/step - loss: 0.5794: 0s - loss: 0.579 - ETA: 0s - los\n",
      "Epoch 97/150\n",
      "313/313 [==============================] - 7s 21ms/step - loss: 0.5792\n",
      "Epoch 98/150\n",
      "313/313 [==============================] - 7s 21ms/step - loss: 0.5792\n",
      "Epoch 99/150\n",
      "313/313 [==============================] - 6s 20ms/step - loss: 0.5793\n",
      "Epoch 100/150\n",
      "313/313 [==============================] - 6s 20ms/step - loss: 0.5790\n",
      "Epoch 101/150\n",
      "313/313 [==============================] - 6s 21ms/step - loss: 0.5791\n",
      "Epoch 102/150\n",
      "313/313 [==============================] - 7s 21ms/step - loss: 0.5789\n",
      "Epoch 103/150\n",
      "313/313 [==============================] - 6s 20ms/step - loss: 0.5788\n",
      "Epoch 104/150\n",
      "313/313 [==============================] - 6s 20ms/step - loss: 0.5787\n",
      "Epoch 105/150\n",
      "313/313 [==============================] - 6s 20ms/step - loss: 0.5786\n",
      "Epoch 106/150\n",
      "313/313 [==============================] - 6s 20ms/step - loss: 0.5785: \n",
      "Epoch 107/150\n",
      "313/313 [==============================] - 6s 20ms/step - loss: 0.5785\n",
      "Epoch 108/150\n",
      "313/313 [==============================] - 6s 20ms/step - loss: 0.5785: 5s - lo\n",
      "Epoch 109/150\n",
      "313/313 [==============================] - 6s 20ms/step - loss: 0.5783\n",
      "Epoch 110/150\n",
      "313/313 [==============================] - 7s 21ms/step - loss: 0.5783\n",
      "Epoch 111/150\n",
      "313/313 [==============================] - 6s 20ms/step - loss: 0.5784\n",
      "Epoch 112/150\n",
      "313/313 [==============================] - 6s 20ms/step - loss: 0.5782: 1s - loss: 0.578\n",
      "Epoch 113/150\n",
      "313/313 [==============================] - 6s 20ms/step - loss: 0.5781\n",
      "Epoch 114/150\n",
      "313/313 [==============================] - 6s 20ms/step - loss: 0.5780\n",
      "Epoch 115/150\n",
      "313/313 [==============================] - 6s 20ms/step - loss: 0.5779\n",
      "Epoch 116/150\n",
      "313/313 [==============================] - 6s 21ms/step - loss: 0.5779\n",
      "Epoch 117/150\n",
      "313/313 [==============================] - 7s 22ms/step - loss: 0.5779\n",
      "Epoch 118/150\n",
      "313/313 [==============================] - 6s 20ms/step - loss: 0.5779: 4s  - ETA: 3s \n",
      "Epoch 119/150\n",
      "313/313 [==============================] - 7s 21ms/step - loss: 0.5776\n",
      "Epoch 120/150\n",
      "313/313 [==============================] - 6s 20ms/step - loss: 0.5776: 2s\n",
      "Epoch 121/150\n",
      "313/313 [==============================] - 6s 20ms/step - loss: 0.5776: 1s - los - \n",
      "Epoch 122/150\n",
      "313/313 [==============================] - 6s 21ms/step - loss: 0.5776: 0s - loss\n",
      "Epoch 123/150\n",
      "313/313 [==============================] - 7s 21ms/step - loss: 0.5774: 0s - \n",
      "Epoch 124/150\n",
      "313/313 [==============================] - 6s 20ms/step - loss: 0.5776\n",
      "Epoch 125/150\n",
      "313/313 [==============================] - 7s 23ms/step - loss: 0.5774\n",
      "Epoch 126/150\n",
      "313/313 [==============================] - 9s 28ms/step - loss: 0.5773\n",
      "Epoch 127/150\n",
      "313/313 [==============================] - 6s 21ms/step - loss: 0.5775\n",
      "Epoch 128/150\n",
      "313/313 [==============================] - 7s 21ms/step - loss: 0.5773\n",
      "Epoch 129/150\n",
      "313/313 [==============================] - 6s 21ms/step - loss: 0.5772: 1s - ETA: 0\n",
      "Epoch 130/150\n",
      "313/313 [==============================] - 6s 20ms/step - loss: 0.5771\n",
      "Epoch 131/150\n",
      "313/313 [==============================] - 6s 21ms/step - loss: 0.5770\n",
      "Epoch 132/150\n",
      "313/313 [==============================] - 7s 23ms/step - loss: 0.5770\n",
      "Epoch 133/150\n",
      "313/313 [==============================] - 7s 21ms/step - loss: 0.5770\n",
      "Epoch 134/150\n",
      "313/313 [==============================] - 7s 21ms/step - loss: 0.5769\n",
      "Epoch 135/150\n",
      "313/313 [==============================] - 7s 23ms/step - loss: 0.5769\n",
      "Epoch 136/150\n",
      "313/313 [==============================] - 8s 26ms/step - loss: 0.5768\n",
      "Epoch 137/150\n",
      "313/313 [==============================] - 7s 21ms/step - loss: 0.5768\n",
      "Epoch 138/150\n",
      "313/313 [==============================] - 6s 21ms/step - loss: 0.5767\n",
      "Epoch 139/150\n",
      "313/313 [==============================] - 6s 20ms/step - loss: 0.5767\n",
      "Epoch 140/150\n",
      "313/313 [==============================] - 6s 20ms/step - loss: 0.5766\n",
      "Epoch 141/150\n",
      "313/313 [==============================] - 6s 20ms/step - loss: 0.5765\n",
      "Epoch 142/150\n",
      "313/313 [==============================] - 6s 20ms/step - loss: 0.5765: 0s\n",
      "Epoch 143/150\n",
      "313/313 [==============================] - 6s 20ms/step - loss: 0.5764\n",
      "Epoch 144/150\n",
      "313/313 [==============================] - 6s 20ms/step - loss: 0.5765\n",
      "Epoch 145/150\n",
      "313/313 [==============================] - 6s 21ms/step - loss: 0.5763\n",
      "Epoch 146/150\n",
      "313/313 [==============================] - 6s 20ms/step - loss: 0.5763\n",
      "Epoch 147/150\n",
      "313/313 [==============================] - 7s 21ms/step - loss: 0.5764\n",
      "Epoch 148/150\n",
      "313/313 [==============================] - 6s 21ms/step - loss: 0.5762\n",
      "Epoch 149/150\n",
      "313/313 [==============================] - 7s 21ms/step - loss: 0.5763\n",
      "Epoch 150/150\n",
      "313/313 [==============================] - 6s 20ms/step - loss: 0.5762\n"
     ]
    },
    {
     "data": {
      "text/plain": [
       "<tensorflow.python.keras.callbacks.History at 0x2a802313c48>"
      ]
     },
     "execution_count": 10,
     "metadata": {},
     "output_type": "execute_result"
    }
   ],
   "source": [
    "autoencoder.fit(images, images, epochs=150)"
   ]
  },
  {
   "cell_type": "code",
   "execution_count": 11,
   "metadata": {},
   "outputs": [],
   "source": [
    "encoder_output = Model(input_layer, encoding_stage).predict(images[:5])"
   ]
  },
  {
   "cell_type": "code",
   "execution_count": 12,
   "metadata": {},
   "outputs": [],
   "source": [
    "encoder_output = encoder_output.reshape((-1, 16, 16)) * 255"
   ]
  },
  {
   "cell_type": "code",
   "execution_count": 13,
   "metadata": {},
   "outputs": [],
   "source": [
    "decoder_output = autoencoder.predict(images[:5])"
   ]
  },
  {
   "cell_type": "code",
   "execution_count": 14,
   "metadata": {},
   "outputs": [],
   "source": [
    "decoder_output = decoder_output.reshape((-1, 32,32)) * 255"
   ]
  },
  {
   "cell_type": "code",
   "execution_count": 15,
   "metadata": {},
   "outputs": [],
   "source": [
    "images = images.reshape((-1, 32, 32))"
   ]
  },
  {
   "cell_type": "code",
   "execution_count": 16,
   "metadata": {},
   "outputs": [
    {
     "data": {
      "image/png": "[encoded data removed]",
      "text/plain": [
       "<Figure size 720x504 with 15 Axes>"
      ]
     },
     "metadata": {
      "needs_background": "light"
     },
     "output_type": "display_data"
    }
   ],
   "source": [
    "plt.figure(figsize=(10, 7))\n",
    "for i in range(5):\n",
    "    # Plot the original image\n",
    "    plt.subplot(3, 5, i + 1)\n",
    "    plt.imshow(images[i], cmap='gray')\n",
    "    plt.axis('off')\n",
    "    \n",
    "    # Plot the encoder output\n",
    "    plt.subplot(3, 5, i + 6)\n",
    "    plt.imshow(encoder_output[i], cmap='gray')\n",
    "    plt.axis('off')   \n",
    "    \n",
    "    # Plot the decoder output\n",
    "    plt.subplot(3, 5, i + 11)\n",
    "    plt.imshow(decoder_output[i], cmap='gray')\n",
    "    plt.axis('off')        "
   ]
  },
  {
   "cell_type": "code",
   "execution_count": 17,
   "metadata": {},
   "outputs": [
    {
     "name": "stdout",
     "output_type": "stream",
     "text": [
      "INFO:tensorflow:Assets written to: simple-autoencoder-lr-08\\assets\n"
     ]
    }
   ],
   "source": [
    "autoencoder.save('simple-autoencoder-lr-08')"
   ]
  },
  {
   "cell_type": "code",
   "execution_count": null,
   "metadata": {},
   "outputs": [],
   "source": []
  }
 ],
 "metadata": {
  "kernelspec": {
   "display_name": "Python 3",
   "language": "python",
   "name": "python3"
  },
  "language_info": {
   "codemirror_mode": {
    "name": "ipython",
    "version": 3
   },
   "file_extension": ".py",
   "mimetype": "text/x-python",
   "name": "python",
   "nbconvert_exporter": "python",
   "pygments_lexer": "ipython3",
   "version": "3.7.6"
  }
 },
 "nbformat": 4,
 "nbformat_minor": 4
}
